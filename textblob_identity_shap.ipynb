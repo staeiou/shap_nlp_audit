{
 "cells": [
  {
   "cell_type": "code",
   "execution_count": 1,
   "id": "cd8ebe18-78fe-4612-8a10-1b43ae89fef2",
   "metadata": {},
   "outputs": [
    {
     "name": "stdout",
     "output_type": "stream",
     "text": [
      "Defaulting to user installation because normal site-packages is not writeable\n",
      "Requirement already satisfied: textblob in /home/sgeiger/.local/lib/python3.9/site-packages (0.17.1)\n",
      "Requirement already satisfied: tqdm in /opt/conda/lib/python3.9/site-packages (4.61.2)\n",
      "Requirement already satisfied: vaderSentiment in /home/sgeiger/.local/lib/python3.9/site-packages (3.3.2)\n",
      "Requirement already satisfied: nltk>=3.1 in /opt/conda/lib/python3.9/site-packages (from textblob) (3.8.1)\n",
      "Requirement already satisfied: joblib in /opt/conda/lib/python3.9/site-packages (from nltk>=3.1->textblob) (1.0.1)\n",
      "Requirement already satisfied: regex>=2021.8.3 in /opt/conda/lib/python3.9/site-packages (from nltk>=3.1->textblob) (2023.8.8)\n",
      "Requirement already satisfied: click in /opt/conda/lib/python3.9/site-packages (from nltk>=3.1->textblob) (8.0.1)\n",
      "Requirement already satisfied: requests in /opt/conda/lib/python3.9/site-packages (from vaderSentiment) (2.26.0)\n",
      "Requirement already satisfied: charset-normalizer~=2.0.0 in /opt/conda/lib/python3.9/site-packages (from requests->vaderSentiment) (2.0.0)\n",
      "Requirement already satisfied: idna<4,>=2.5 in /opt/conda/lib/python3.9/site-packages (from requests->vaderSentiment) (3.1)\n",
      "Requirement already satisfied: certifi>=2017.4.17 in /opt/conda/lib/python3.9/site-packages (from requests->vaderSentiment) (2023.7.22)\n",
      "Requirement already satisfied: urllib3<1.27,>=1.21.1 in /opt/conda/lib/python3.9/site-packages (from requests->vaderSentiment) (1.26.6)\n"
     ]
    }
   ],
   "source": [
    "!pip install textblob tqdm vaderSentiment"
   ]
  },
  {
   "cell_type": "code",
   "execution_count": 2,
   "id": "8d8b9a16-7082-4ab0-8b38-470438717b90",
   "metadata": {},
   "outputs": [],
   "source": [
    "from textblob import TextBlob\n",
    "from itertools import combinations, chain\n",
    "from vaderSentiment.vaderSentiment import SentimentIntensityAnalyzer\n",
    "#from transformers import pipeline\n",
    "from tqdm import tqdm\n",
    "\n",
    "# VADER\n",
    "#analyzer = SentimentIntensityAnalyzer()\n",
    "\n",
    "# Load a pre-trained sentiment analysis model\n",
    "#model_name = \"twitter-roberta-base-sentiment-latest\"\n",
    "#sentiment_pipeline = pipeline(\"sentiment-analysis\", model=model_name)\n",
    "\n"
   ]
  },
  {
   "cell_type": "code",
   "execution_count": 3,
   "id": "e914382b-f2e2-46b7-946e-093b0f2a7cff",
   "metadata": {},
   "outputs": [],
   "source": [
    "# List of identity characteristics\n",
    "identity_characteristics = [\n",
    "    'straight', 'gay', 'homosexual', 'heterosexual', 'lesbian', 'bisexual', 'transgender',\n",
    "    'queer', 'non-binary', 'Black', 'African American', 'White', 'Caucasian', 'Asian', \n",
    "    'Hispanic', 'Latinx', 'Chinese', 'Indian', 'Native American',\n",
    "    'terrible', 'awful', 'wonderful', 'amazing' # for calibration\n",
    "    # Add more terms as needed\n",
    "]\n",
    "\n",
    "# Sample phrases with placeholders for identity characteristics\n",
    "phrase_templates = [\n",
    "    \"I am reflecting on my experience as a {} person\",\n",
    "    \"The next presenter will tell the story of a {} person\",\n",
    "    \"The machine learning classifier was biased towards {} people\",\n",
    "    # Add more phrases as needed\n",
    "]\n"
   ]
  },
  {
   "cell_type": "code",
   "execution_count": 4,
   "id": "0b63a555-e54a-4d7e-a89e-fb9b3f6019b3",
   "metadata": {},
   "outputs": [],
   "source": [
    "# Function to compute sentiment polarity\n",
    "def compute_sentiment(phrase):\n",
    "    blob = TextBlob(phrase)\n",
    "    score = blob.sentiment.polarity\n",
    "    \n",
    "    # Uncomment for VADER\n",
    "    #score = analyzer.polarity_scores(text)[\"compound\"]\n",
    "    \n",
    "    #print(phrase, blob.sentiment.polarity)\n",
    "    return score\n",
    "\n",
    "# Function to analyze the impact of each word using a Shapley-like approach\n",
    "def analyze_impact(identity_characteristics, phrase_templates):\n",
    "    impact_sums = {word: 0.0 for word in identity_characteristics}\n",
    "    count_sums = {word: 0 for word in identity_characteristics}\n",
    "\n",
    "    for phrase_template in phrase_templates:\n",
    "        # Limit to combinations of max 3 identity terms\n",
    "        all_subsets = list(chain(*[combinations(identity_characteristics, r) for r in range(1, 4)]))\n",
    "\n",
    "        for subset in tqdm(all_subsets, desc=\"Analyzing\"):\n",
    "            subset_score = compute_sentiment(phrase_template.format(\" \".join(subset)))\n",
    "            for word in identity_characteristics:\n",
    "                if word not in subset:\n",
    "                    new_subset = list(subset) + [word]\n",
    "                    new_subset_score = compute_sentiment(phrase_template.format(\" \".join(new_subset)))\n",
    "                    impact_sums[word] += new_subset_score - subset_score\n",
    "                    count_sums[word] += 1\n",
    "\n",
    "    # Calculate average impact for each word\n",
    "    average_impacts = {word: impact_sums[word] / count_sums[word] for word in identity_characteristics}\n",
    "    return average_impacts"
   ]
  },
  {
   "cell_type": "code",
   "execution_count": 5,
   "id": "e67d07ff-01e8-48e6-8f89-6219901a0c45",
   "metadata": {},
   "outputs": [
    {
     "name": "stderr",
     "output_type": "stream",
     "text": [
      "Analyzing: 100%|██████████| 2047/2047 [00:04<00:00, 438.14it/s]\n",
      "Analyzing: 100%|██████████| 2047/2047 [00:05<00:00, 406.58it/s]\n",
      "Analyzing: 100%|██████████| 2047/2047 [00:04<00:00, 446.96it/s]\n",
      "Calculating Impact: 100%|██████████| 23/23 [00:00<00:00, 28926.23it/s]"
     ]
    },
    {
     "name": "stdout",
     "output_type": "stream",
     "text": [
      "Word: wonderful, Average Impact on Polarity: 0.4366570614116649\n",
      "Word: amazing, Average Impact on Polarity: 0.26149315238271975\n",
      "Word: gay, Average Impact on Polarity: 0.18120969407779397\n",
      "Word: straight, Average Impact on Polarity: 0.08632924335378352\n",
      "Word: homosexual, Average Impact on Polarity: 0.0\n",
      "Word: heterosexual, Average Impact on Polarity: 0.0\n",
      "Word: lesbian, Average Impact on Polarity: 0.0\n",
      "Word: bisexual, Average Impact on Polarity: 0.0\n",
      "Word: transgender, Average Impact on Polarity: 0.0\n",
      "Word: queer, Average Impact on Polarity: 0.0\n",
      "Word: non-binary, Average Impact on Polarity: 0.0\n",
      "Word: Caucasian, Average Impact on Polarity: 0.0\n",
      "Word: Hispanic, Average Impact on Polarity: 0.0\n",
      "Word: Latinx, Average Impact on Polarity: 0.0\n",
      "Word: Indian, Average Impact on Polarity: 0.0\n",
      "Word: White, Average Impact on Polarity: -0.001252711160686619\n",
      "Word: Chinese, Average Impact on Polarity: -0.001252711160686619\n",
      "Word: Native American, Average Impact on Polarity: -0.0012527111606866195\n",
      "Word: Asian, Average Impact on Polarity: -0.0012527111606866197\n",
      "Word: African American, Average Impact on Polarity: -0.001838941562867927\n",
      "Word: Black, Average Impact on Polarity: -0.07423767325607748\n",
      "Word: terrible, Average Impact on Polarity: -0.4391624837330348\n",
      "Word: awful, Average Impact on Polarity: -0.4391624837330348\n"
     ]
    },
    {
     "name": "stderr",
     "output_type": "stream",
     "text": [
      "\n"
     ]
    }
   ],
   "source": [
    "# Analyze the impact of each word\n",
    "average_impacts = analyze_impact(identity_characteristics, phrase_templates)\n",
    "\n",
    "# Sort and display results\n",
    "sorted_impacts = sorted(average_impacts.items(), key=lambda x: x[1], reverse=True)\n",
    "\n",
    "for word, impact in tqdm(sorted_impacts, desc=\"Calculating Impact\"):\n",
    "    print(f\"Word: {word}, Average Impact on Polarity: {impact}\")"
   ]
  },
  {
   "cell_type": "code",
   "execution_count": null,
   "id": "6ffcd519-7057-4613-bc19-980875867460",
   "metadata": {},
   "outputs": [],
   "source": []
  }
 ],
 "metadata": {
  "kernelspec": {
   "display_name": "Python 3 (ipykernel)",
   "language": "python",
   "name": "python3"
  },
  "language_info": {
   "codemirror_mode": {
    "name": "ipython",
    "version": 3
   },
   "file_extension": ".py",
   "mimetype": "text/x-python",
   "name": "python",
   "nbconvert_exporter": "python",
   "pygments_lexer": "ipython3",
   "version": "3.9.5"
  }
 },
 "nbformat": 4,
 "nbformat_minor": 5
}
