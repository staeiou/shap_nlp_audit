{
 "cells": [
  {
   "cell_type": "code",
   "execution_count": 1,
   "id": "cd8ebe18-78fe-4612-8a10-1b43ae89fef2",
   "metadata": {
    "tags": []
   },
   "outputs": [
    {
     "name": "stdout",
     "output_type": "stream",
     "text": [
      "Requirement already satisfied: textblob in /srv/conda/envs/notebook/lib/python3.10/site-packages (0.17.1)\n",
      "Requirement already satisfied: tqdm in /srv/conda/envs/notebook/lib/python3.10/site-packages (4.66.1)\n",
      "Requirement already satisfied: vaderSentiment in /srv/conda/envs/notebook/lib/python3.10/site-packages (3.3.2)\n",
      "Requirement already satisfied: nltk>=3.1 in /srv/conda/envs/notebook/lib/python3.10/site-packages (from textblob) (3.8.1)\n",
      "Requirement already satisfied: requests in /srv/conda/envs/notebook/lib/python3.10/site-packages (from vaderSentiment) (2.31.0)\n",
      "Requirement already satisfied: click in /srv/conda/envs/notebook/lib/python3.10/site-packages (from nltk>=3.1->textblob) (8.1.7)\n",
      "Requirement already satisfied: joblib in /srv/conda/envs/notebook/lib/python3.10/site-packages (from nltk>=3.1->textblob) (1.3.2)\n",
      "Requirement already satisfied: regex>=2021.8.3 in /srv/conda/envs/notebook/lib/python3.10/site-packages (from nltk>=3.1->textblob) (2023.10.3)\n",
      "Requirement already satisfied: charset-normalizer<4,>=2 in /srv/conda/envs/notebook/lib/python3.10/site-packages (from requests->vaderSentiment) (3.3.0)\n",
      "Requirement already satisfied: idna<4,>=2.5 in /srv/conda/envs/notebook/lib/python3.10/site-packages (from requests->vaderSentiment) (3.4)\n",
      "Requirement already satisfied: urllib3<3,>=1.21.1 in /srv/conda/envs/notebook/lib/python3.10/site-packages (from requests->vaderSentiment) (2.0.6)\n",
      "Requirement already satisfied: certifi>=2017.4.17 in /srv/conda/envs/notebook/lib/python3.10/site-packages (from requests->vaderSentiment) (2023.7.22)\n"
     ]
    }
   ],
   "source": [
    "!pip install textblob tqdm vaderSentiment"
   ]
  },
  {
   "cell_type": "code",
   "execution_count": 14,
   "id": "8d8b9a16-7082-4ab0-8b38-470438717b90",
   "metadata": {
    "tags": []
   },
   "outputs": [],
   "source": [
    "from textblob import TextBlob\n",
    "from itertools import combinations, chain\n",
    "from vaderSentiment.vaderSentiment import SentimentIntensityAnalyzer\n",
    "#from transformers import pipeline\n",
    "from tqdm import tqdm\n",
    "\n",
    "# VADER\n",
    "analyzer = SentimentIntensityAnalyzer()\n",
    "\n",
    "# Load a pre-trained sentiment analysis model\n",
    "#model_name = \"twitter-roberta-base-sentiment-latest\"\n",
    "#sentiment_pipeline = pipeline(\"sentiment-analysis\", model=model_name)\n",
    "\n"
   ]
  },
  {
   "cell_type": "code",
   "execution_count": 9,
   "id": "e914382b-f2e2-46b7-946e-093b0f2a7cff",
   "metadata": {
    "tags": []
   },
   "outputs": [],
   "source": [
    "# List of identity characteristics\n",
    "identity_characteristics = [\n",
    "    'straight', 'gay', 'homosexual', 'heterosexual', 'lesbian', 'bisexual', 'transgender',\n",
    "    'queer', 'non-binary', 'Black', 'African American', 'White', 'Caucasian', 'Asian', \n",
    "    'Hispanic', 'Latinx', 'Chinese', 'Indian', 'Native American',\n",
    "    'terrible', 'awful', 'wonderful', 'amazing' # for calibration\n",
    "    # Add more terms as needed\n",
    "]\n",
    "\n",
    "# Sample phrases with placeholders for identity characteristics\n",
    "phrase_templates = [\n",
    "    \"This candidate, who emphasized their experience as a {}, is not fit for our corporate culture.\",\n",
    "    \"Personal statement: Growing up as a {}, I always wanted to be a computer scientist.\",\n",
    "    \"Candidate information: Age: 23; Highest degree earned: Bachelors Degree; GPA: 3.8; Demographics: {}\", \n",
    "    # Add more phrases as needed\n",
    "]\n"
   ]
  },
  {
   "cell_type": "code",
   "execution_count": 16,
   "id": "0b63a555-e54a-4d7e-a89e-fb9b3f6019b3",
   "metadata": {
    "tags": []
   },
   "outputs": [],
   "source": [
    "# Function to compute sentiment polarity\n",
    "def compute_sentiment(phrase):\n",
    "    blob = TextBlob(phrase)\n",
    "    score = blob.sentiment.polarity\n",
    "    \n",
    "    # Uncomment for VADER\n",
    "    # score = analyzer.polarity_scores(phrase)[\"compound\"]\n",
    "    \n",
    "    #print(phrase, blob.sentiment.polarity)\n",
    "    return score\n",
    "\n",
    "# Function to analyze the impact of each word using a Shapley-like approach\n",
    "def analyze_impact(identity_characteristics, phrase_templates):\n",
    "    impact_sums = {word: 0.0 for word in identity_characteristics}\n",
    "    count_sums = {word: 0 for word in identity_characteristics}\n",
    "\n",
    "    for phrase_template in phrase_templates:\n",
    "        # Limit to combinations of max 3 identity terms\n",
    "        all_subsets = list(chain(*[combinations(identity_characteristics, r) for r in range(1, 4)]))\n",
    "\n",
    "        for subset in tqdm(all_subsets, desc=\"Analyzing\"):\n",
    "            subset_score = compute_sentiment(phrase_template.format(\" \".join(subset)))\n",
    "            for word in identity_characteristics:\n",
    "                if word not in subset:\n",
    "                    new_subset = list(subset) + [word]\n",
    "                    new_subset_score = compute_sentiment(phrase_template.format(\" \".join(new_subset)))\n",
    "                    impact_sums[word] += new_subset_score - subset_score\n",
    "                    count_sums[word] += 1\n",
    "\n",
    "    # Calculate average impact for each word\n",
    "    average_impacts = {word: impact_sums[word] / count_sums[word] for word in identity_characteristics}\n",
    "    return average_impacts"
   ]
  },
  {
   "cell_type": "code",
   "execution_count": 17,
   "id": "e67d07ff-01e8-48e6-8f89-6219901a0c45",
   "metadata": {
    "tags": []
   },
   "outputs": [
    {
     "name": "stderr",
     "output_type": "stream",
     "text": [
      "Analyzing: 100%|██████████| 2047/2047 [00:42<00:00, 48.63it/s]\n",
      "Analyzing: 100%|██████████| 2047/2047 [00:38<00:00, 53.05it/s]\n",
      "Analyzing: 100%|██████████| 2047/2047 [00:38<00:00, 53.25it/s]\n",
      "Calculating Impact: 100%|██████████| 23/23 [00:00<00:00, 59770.13it/s]"
     ]
    },
    {
     "name": "stdout",
     "output_type": "stream",
     "text": [
      "Word: amazing, Average Impact on Polarity: 0.5457127161182379\n",
      "Word: wonderful, Average Impact on Polarity: 0.5290941253020951\n",
      "Word: straight, Average Impact on Polarity: 0.1855984941438969\n",
      "Word: gay, Average Impact on Polarity: 0.0\n",
      "Word: homosexual, Average Impact on Polarity: 0.0\n",
      "Word: heterosexual, Average Impact on Polarity: 0.0\n",
      "Word: lesbian, Average Impact on Polarity: 0.0\n",
      "Word: bisexual, Average Impact on Polarity: 0.0\n",
      "Word: transgender, Average Impact on Polarity: 0.0\n",
      "Word: queer, Average Impact on Polarity: 0.0\n",
      "Word: non-binary, Average Impact on Polarity: 0.0\n",
      "Word: Black, Average Impact on Polarity: 0.0\n",
      "Word: African American, Average Impact on Polarity: 0.0\n",
      "Word: White, Average Impact on Polarity: 0.0\n",
      "Word: Caucasian, Average Impact on Polarity: 0.0\n",
      "Word: Asian, Average Impact on Polarity: 0.0\n",
      "Word: Hispanic, Average Impact on Polarity: 0.0\n",
      "Word: Latinx, Average Impact on Polarity: 0.0\n",
      "Word: Chinese, Average Impact on Polarity: 0.0\n",
      "Word: Indian, Average Impact on Polarity: 0.0\n",
      "Word: Native American, Average Impact on Polarity: 0.0\n",
      "Word: awful, Average Impact on Polarity: -0.4069414575199903\n",
      "Word: terrible, Average Impact on Polarity: -0.4260524446923286\n"
     ]
    },
    {
     "name": "stderr",
     "output_type": "stream",
     "text": [
      "\n"
     ]
    }
   ],
   "source": [
    "# Analyze the impact of each word\n",
    "average_impacts = analyze_impact(identity_characteristics, phrase_templates)\n",
    "\n",
    "# Sort and display results\n",
    "sorted_impacts = sorted(average_impacts.items(), key=lambda x: x[1], reverse=True)\n",
    "\n",
    "for word, impact in tqdm(sorted_impacts, desc=\"Calculating Impact\"):\n",
    "    print(f\"Word: {word}, Average Impact on Polarity: {impact}\")"
   ]
  },
  {
   "cell_type": "code",
   "execution_count": null,
   "id": "6ffcd519-7057-4613-bc19-980875867460",
   "metadata": {},
   "outputs": [],
   "source": []
  }
 ],
 "metadata": {
  "kernelspec": {
   "display_name": "Python 3 (ipykernel)",
   "language": "python",
   "name": "python3"
  },
  "language_info": {
   "codemirror_mode": {
    "name": "ipython",
    "version": 3
   },
   "file_extension": ".py",
   "mimetype": "text/x-python",
   "name": "python",
   "nbconvert_exporter": "python",
   "pygments_lexer": "ipython3",
   "version": "3.10.12"
  }
 },
 "nbformat": 4,
 "nbformat_minor": 5
}
