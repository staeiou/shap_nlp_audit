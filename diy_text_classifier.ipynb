{
 "cells": [
  {
   "cell_type": "code",
   "execution_count": 8,
   "metadata": {},
   "outputs": [
    {
     "name": "stdout",
     "output_type": "stream",
     "text": [
      "Defaulting to user installation because normal site-packages is not writeable\n",
      "Requirement already satisfied: pandas in /opt/conda/lib/python3.9/site-packages (2.0.3)\n",
      "Requirement already satisfied: seaborn in /opt/conda/lib/python3.9/site-packages (0.11.1)\n",
      "Requirement already satisfied: xlsxwriter in /home/sgeiger/.local/lib/python3.9/site-packages (3.1.9)\n",
      "Requirement already satisfied: openpyxl in /home/sgeiger/.local/lib/python3.9/site-packages (3.1.2)\n",
      "Requirement already satisfied: scikit-learn==1.0.2 in /home/sgeiger/.local/lib/python3.9/site-packages (1.0.2)\n",
      "Requirement already satisfied: threadpoolctl>=2.0.0 in /opt/conda/lib/python3.9/site-packages (from scikit-learn==1.0.2) (2.2.0)\n",
      "Requirement already satisfied: scipy>=1.1.0 in /home/sgeiger/.local/lib/python3.9/site-packages (from scikit-learn==1.0.2) (1.11.3)\n",
      "Requirement already satisfied: joblib>=0.11 in /opt/conda/lib/python3.9/site-packages (from scikit-learn==1.0.2) (1.0.1)\n",
      "Requirement already satisfied: numpy>=1.14.6 in /home/sgeiger/.local/lib/python3.9/site-packages (from scikit-learn==1.0.2) (1.26.0)\n",
      "Requirement already satisfied: python-dateutil>=2.8.2 in /opt/conda/lib/python3.9/site-packages (from pandas) (2.8.2)\n",
      "Requirement already satisfied: pytz>=2020.1 in /opt/conda/lib/python3.9/site-packages (from pandas) (2021.1)\n",
      "Requirement already satisfied: tzdata>=2022.1 in /opt/conda/lib/python3.9/site-packages (from pandas) (2023.3)\n",
      "Requirement already satisfied: six>=1.5 in /opt/conda/lib/python3.9/site-packages (from python-dateutil>=2.8.2->pandas) (1.16.0)\n",
      "Requirement already satisfied: matplotlib>=2.2 in /opt/conda/lib/python3.9/site-packages (from seaborn) (3.4.2)\n",
      "Requirement already satisfied: pyparsing>=2.2.1 in /opt/conda/lib/python3.9/site-packages (from matplotlib>=2.2->seaborn) (2.4.7)\n",
      "Requirement already satisfied: pillow>=6.2.0 in /opt/conda/lib/python3.9/site-packages (from matplotlib>=2.2->seaborn) (8.3.1)\n",
      "Requirement already satisfied: kiwisolver>=1.0.1 in /opt/conda/lib/python3.9/site-packages (from matplotlib>=2.2->seaborn) (1.3.1)\n",
      "Requirement already satisfied: cycler>=0.10 in /opt/conda/lib/python3.9/site-packages (from matplotlib>=2.2->seaborn) (0.10.0)\n",
      "Requirement already satisfied: et-xmlfile in /home/sgeiger/.local/lib/python3.9/site-packages (from openpyxl) (1.1.0)\n"
     ]
    }
   ],
   "source": [
    "!pip install pandas seaborn xlsxwriter openpyxl scikit-learn==1.0.2"
   ]
  },
  {
   "cell_type": "markdown",
   "metadata": {},
   "source": [
    "## Import libraries\n",
    "We are using a new library called scikit-learn, originally created and released for free by researchers at the French national laboratory INRIA."
   ]
  },
  {
   "cell_type": "code",
   "execution_count": 56,
   "metadata": {},
   "outputs": [],
   "source": [
    "import numpy as np\n",
    "import pandas as pd\n",
    "\n",
    "import sklearn.pipeline\n",
    "import sklearn.feature_extraction.text\n",
    "import sklearn.naive_bayes\n",
    "import sklearn.model_selection\n",
    "import sklearn.metrics"
   ]
  },
  {
   "cell_type": "markdown",
   "metadata": {},
   "source": [
    "## Load data\n",
    "This is expecting an excel file named ```training.xlsx```. You can change your file name or change the name inside the quotes to match.\n",
    "\n",
    "__This will expect that your input text is in the first column and your label/output in the second column__"
   ]
  },
  {
   "cell_type": "code",
   "execution_count": 57,
   "metadata": {},
   "outputs": [],
   "source": [
    "data = pd.read_excel(\"training.xlsx\")"
   ]
  },
  {
   "cell_type": "code",
   "execution_count": 58,
   "metadata": {},
   "outputs": [
    {
     "data": {
      "text/html": [
       "<div>\n",
       "<style scoped>\n",
       "    .dataframe tbody tr th:only-of-type {\n",
       "        vertical-align: middle;\n",
       "    }\n",
       "\n",
       "    .dataframe tbody tr th {\n",
       "        vertical-align: top;\n",
       "    }\n",
       "\n",
       "    .dataframe thead th {\n",
       "        text-align: right;\n",
       "    }\n",
       "</style>\n",
       "<table border=\"1\" class=\"dataframe\">\n",
       "  <thead>\n",
       "    <tr style=\"text-align: right;\">\n",
       "      <th></th>\n",
       "      <th>input</th>\n",
       "      <th>output</th>\n",
       "    </tr>\n",
       "  </thead>\n",
       "  <tbody>\n",
       "    <tr>\n",
       "      <th>0</th>\n",
       "      <td>Can’t wait until summer break!</td>\n",
       "      <td>happy</td>\n",
       "    </tr>\n",
       "    <tr>\n",
       "      <th>1</th>\n",
       "      <td>Coffee</td>\n",
       "      <td>happy</td>\n",
       "    </tr>\n",
       "    <tr>\n",
       "      <th>2</th>\n",
       "      <td>Coffee always makes my day.</td>\n",
       "      <td>happy</td>\n",
       "    </tr>\n",
       "    <tr>\n",
       "      <th>3</th>\n",
       "      <td>Coffee makes mehappy</td>\n",
       "      <td>happy</td>\n",
       "    </tr>\n",
       "    <tr>\n",
       "      <th>4</th>\n",
       "      <td>Cold brew is good</td>\n",
       "      <td>happy</td>\n",
       "    </tr>\n",
       "    <tr>\n",
       "      <th>...</th>\n",
       "      <td>...</td>\n",
       "      <td>...</td>\n",
       "    </tr>\n",
       "    <tr>\n",
       "      <th>156</th>\n",
       "      <td>Ugh no good</td>\n",
       "      <td>sad</td>\n",
       "    </tr>\n",
       "    <tr>\n",
       "      <th>157</th>\n",
       "      <td>Ugh, this sucks</td>\n",
       "      <td>sad</td>\n",
       "    </tr>\n",
       "    <tr>\n",
       "      <th>158</th>\n",
       "      <td>Uh-oh, this isn’t good</td>\n",
       "      <td>sad</td>\n",
       "    </tr>\n",
       "    <tr>\n",
       "      <th>159</th>\n",
       "      <td>when is it my turn to behappy</td>\n",
       "      <td>sad</td>\n",
       "    </tr>\n",
       "    <tr>\n",
       "      <th>160</th>\n",
       "      <td>Why doesn’t she love me anymore.</td>\n",
       "      <td>sad</td>\n",
       "    </tr>\n",
       "  </tbody>\n",
       "</table>\n",
       "<p>161 rows × 2 columns</p>\n",
       "</div>"
      ],
      "text/plain": [
       "                                input output\n",
       "0      Can’t wait until summer break!  happy\n",
       "1                              Coffee  happy\n",
       "2         Coffee always makes my day.  happy\n",
       "3                Coffee makes mehappy  happy\n",
       "4                   Cold brew is good  happy\n",
       "..                                ...    ...\n",
       "156                       Ugh no good    sad\n",
       "157                   Ugh, this sucks    sad\n",
       "158            Uh-oh, this isn’t good    sad\n",
       "159     when is it my turn to behappy    sad\n",
       "160  Why doesn’t she love me anymore.    sad\n",
       "\n",
       "[161 rows x 2 columns]"
      ]
     },
     "execution_count": 58,
     "metadata": {},
     "output_type": "execute_result"
    }
   ],
   "source": [
    "data"
   ]
  },
  {
   "cell_type": "code",
   "execution_count": 59,
   "metadata": {},
   "outputs": [
    {
     "data": {
      "text/plain": [
       "Index(['input', 'output'], dtype='object')"
      ]
     },
     "execution_count": 59,
     "metadata": {},
     "output_type": "execute_result"
    }
   ],
   "source": [
    "data.columns"
   ]
  },
  {
   "cell_type": "code",
   "execution_count": 60,
   "metadata": {},
   "outputs": [
    {
     "data": {
      "text/plain": [
       "output\n",
       "sad      81\n",
       "happy    80\n",
       "Name: count, dtype: int64"
      ]
     },
     "execution_count": 60,
     "metadata": {},
     "output_type": "execute_result"
    }
   ],
   "source": [
    "data['output'].value_counts()"
   ]
  },
  {
   "cell_type": "markdown",
   "metadata": {},
   "source": [
    "## Split into training and testing datasets\n",
    "We want to randomly select 80% of this data to use to train the model, then use the remaining 20% to test how good the model is on examples it has not seen before."
   ]
  },
  {
   "cell_type": "code",
   "execution_count": 61,
   "metadata": {},
   "outputs": [],
   "source": [
    "input_train, input_test, output_train, output_test = sklearn.model_selection.train_test_split(data['input'], \n",
    "                                                                                             data['output'], \n",
    "                                                                                             test_size=0.2)"
   ]
  },
  {
   "cell_type": "code",
   "execution_count": 62,
   "metadata": {},
   "outputs": [
    {
     "data": {
      "text/plain": [
       "(128, 33)"
      ]
     },
     "execution_count": 62,
     "metadata": {},
     "output_type": "execute_result"
    }
   ],
   "source": [
    "len(input_train), len(input_test)"
   ]
  },
  {
   "cell_type": "markdown",
   "metadata": {},
   "source": [
    "## Create a blank model from a three-part pipeline and then train it with `model.fit()`\n"
   ]
  },
  {
   "cell_type": "code",
   "execution_count": 63,
   "metadata": {},
   "outputs": [],
   "source": [
    "model = sklearn.pipeline.Pipeline([\n",
    "    ('vect', sklearn.feature_extraction.text.CountVectorizer()),\n",
    "    ('tfidf', sklearn.feature_extraction.text.TfidfTransformer()),\n",
    "    ('clf', sklearn.naive_bayes.MultinomialNB()),\n",
    "])\n"
   ]
  },
  {
   "cell_type": "code",
   "execution_count": 64,
   "metadata": {},
   "outputs": [
    {
     "data": {
      "text/plain": [
       "Pipeline(steps=[('vect', CountVectorizer()), ('tfidf', TfidfTransformer()),\n",
       "                ('clf', MultinomialNB())])"
      ]
     },
     "execution_count": 64,
     "metadata": {},
     "output_type": "execute_result"
    }
   ],
   "source": [
    "model.fit(input_train, output_train)"
   ]
  },
  {
   "cell_type": "markdown",
   "metadata": {},
   "source": [
    "## Testing the model on the other 20% of data\n",
    "Remember the `input_test` dataset? We will use the `model.predict()` function to score those 1035 emails."
   ]
  },
  {
   "cell_type": "code",
   "execution_count": 72,
   "metadata": {},
   "outputs": [],
   "source": [
    "output_predicted = model.predict(input_test)"
   ]
  },
  {
   "cell_type": "code",
   "execution_count": 73,
   "metadata": {},
   "outputs": [
    {
     "data": {
      "text/html": [
       "<div>\n",
       "<style scoped>\n",
       "    .dataframe tbody tr th:only-of-type {\n",
       "        vertical-align: middle;\n",
       "    }\n",
       "\n",
       "    .dataframe tbody tr th {\n",
       "        vertical-align: top;\n",
       "    }\n",
       "\n",
       "    .dataframe thead th {\n",
       "        text-align: right;\n",
       "    }\n",
       "</style>\n",
       "<table border=\"1\" class=\"dataframe\">\n",
       "  <thead>\n",
       "    <tr style=\"text-align: right;\">\n",
       "      <th></th>\n",
       "      <th>output_predicted</th>\n",
       "    </tr>\n",
       "  </thead>\n",
       "  <tbody>\n",
       "    <tr>\n",
       "      <th>0</th>\n",
       "      <td>sad</td>\n",
       "    </tr>\n",
       "    <tr>\n",
       "      <th>1</th>\n",
       "      <td>happy</td>\n",
       "    </tr>\n",
       "    <tr>\n",
       "      <th>2</th>\n",
       "      <td>sad</td>\n",
       "    </tr>\n",
       "    <tr>\n",
       "      <th>3</th>\n",
       "      <td>sad</td>\n",
       "    </tr>\n",
       "    <tr>\n",
       "      <th>4</th>\n",
       "      <td>happy</td>\n",
       "    </tr>\n",
       "    <tr>\n",
       "      <th>5</th>\n",
       "      <td>sad</td>\n",
       "    </tr>\n",
       "    <tr>\n",
       "      <th>6</th>\n",
       "      <td>happy</td>\n",
       "    </tr>\n",
       "    <tr>\n",
       "      <th>7</th>\n",
       "      <td>sad</td>\n",
       "    </tr>\n",
       "    <tr>\n",
       "      <th>8</th>\n",
       "      <td>happy</td>\n",
       "    </tr>\n",
       "    <tr>\n",
       "      <th>9</th>\n",
       "      <td>sad</td>\n",
       "    </tr>\n",
       "    <tr>\n",
       "      <th>10</th>\n",
       "      <td>happy</td>\n",
       "    </tr>\n",
       "    <tr>\n",
       "      <th>11</th>\n",
       "      <td>sad</td>\n",
       "    </tr>\n",
       "    <tr>\n",
       "      <th>12</th>\n",
       "      <td>sad</td>\n",
       "    </tr>\n",
       "    <tr>\n",
       "      <th>13</th>\n",
       "      <td>happy</td>\n",
       "    </tr>\n",
       "    <tr>\n",
       "      <th>14</th>\n",
       "      <td>happy</td>\n",
       "    </tr>\n",
       "    <tr>\n",
       "      <th>15</th>\n",
       "      <td>happy</td>\n",
       "    </tr>\n",
       "    <tr>\n",
       "      <th>16</th>\n",
       "      <td>happy</td>\n",
       "    </tr>\n",
       "    <tr>\n",
       "      <th>17</th>\n",
       "      <td>happy</td>\n",
       "    </tr>\n",
       "    <tr>\n",
       "      <th>18</th>\n",
       "      <td>happy</td>\n",
       "    </tr>\n",
       "    <tr>\n",
       "      <th>19</th>\n",
       "      <td>sad</td>\n",
       "    </tr>\n",
       "    <tr>\n",
       "      <th>20</th>\n",
       "      <td>happy</td>\n",
       "    </tr>\n",
       "    <tr>\n",
       "      <th>21</th>\n",
       "      <td>happy</td>\n",
       "    </tr>\n",
       "    <tr>\n",
       "      <th>22</th>\n",
       "      <td>happy</td>\n",
       "    </tr>\n",
       "    <tr>\n",
       "      <th>23</th>\n",
       "      <td>happy</td>\n",
       "    </tr>\n",
       "    <tr>\n",
       "      <th>24</th>\n",
       "      <td>sad</td>\n",
       "    </tr>\n",
       "    <tr>\n",
       "      <th>25</th>\n",
       "      <td>happy</td>\n",
       "    </tr>\n",
       "    <tr>\n",
       "      <th>26</th>\n",
       "      <td>happy</td>\n",
       "    </tr>\n",
       "    <tr>\n",
       "      <th>27</th>\n",
       "      <td>sad</td>\n",
       "    </tr>\n",
       "    <tr>\n",
       "      <th>28</th>\n",
       "      <td>sad</td>\n",
       "    </tr>\n",
       "    <tr>\n",
       "      <th>29</th>\n",
       "      <td>happy</td>\n",
       "    </tr>\n",
       "    <tr>\n",
       "      <th>30</th>\n",
       "      <td>happy</td>\n",
       "    </tr>\n",
       "    <tr>\n",
       "      <th>31</th>\n",
       "      <td>happy</td>\n",
       "    </tr>\n",
       "    <tr>\n",
       "      <th>32</th>\n",
       "      <td>sad</td>\n",
       "    </tr>\n",
       "  </tbody>\n",
       "</table>\n",
       "</div>"
      ],
      "text/plain": [
       "   output_predicted\n",
       "0               sad\n",
       "1             happy\n",
       "2               sad\n",
       "3               sad\n",
       "4             happy\n",
       "5               sad\n",
       "6             happy\n",
       "7               sad\n",
       "8             happy\n",
       "9               sad\n",
       "10            happy\n",
       "11              sad\n",
       "12              sad\n",
       "13            happy\n",
       "14            happy\n",
       "15            happy\n",
       "16            happy\n",
       "17            happy\n",
       "18            happy\n",
       "19              sad\n",
       "20            happy\n",
       "21            happy\n",
       "22            happy\n",
       "23            happy\n",
       "24              sad\n",
       "25            happy\n",
       "26            happy\n",
       "27              sad\n",
       "28              sad\n",
       "29            happy\n",
       "30            happy\n",
       "31            happy\n",
       "32              sad"
      ]
     },
     "execution_count": 73,
     "metadata": {},
     "output_type": "execute_result"
    }
   ],
   "source": [
    "results = pd.DataFrame(output_predicted)\n",
    "results.columns = ['output_predicted']\n",
    "results"
   ]
  },
  {
   "cell_type": "markdown",
   "metadata": {},
   "source": [
    "Remember that the 'true' labels for these are in `output_test`. They are in a slightly different format (array displayed horizontally versus a column displayed horizontally), but they are easy for the computer to compare."
   ]
  },
  {
   "cell_type": "code",
   "execution_count": 74,
   "metadata": {},
   "outputs": [
    {
     "data": {
      "text/html": [
       "<div>\n",
       "<style scoped>\n",
       "    .dataframe tbody tr th:only-of-type {\n",
       "        vertical-align: middle;\n",
       "    }\n",
       "\n",
       "    .dataframe tbody tr th {\n",
       "        vertical-align: top;\n",
       "    }\n",
       "\n",
       "    .dataframe thead th {\n",
       "        text-align: right;\n",
       "    }\n",
       "</style>\n",
       "<table border=\"1\" class=\"dataframe\">\n",
       "  <thead>\n",
       "    <tr style=\"text-align: right;\">\n",
       "      <th></th>\n",
       "      <th>output_predicted</th>\n",
       "      <th>original_label</th>\n",
       "      <th>text</th>\n",
       "    </tr>\n",
       "  </thead>\n",
       "  <tbody>\n",
       "    <tr>\n",
       "      <th>0</th>\n",
       "      <td>sad</td>\n",
       "      <td>sad</td>\n",
       "      <td>the people in Germany are mean</td>\n",
       "    </tr>\n",
       "    <tr>\n",
       "      <th>1</th>\n",
       "      <td>happy</td>\n",
       "      <td>sad</td>\n",
       "      <td>I was late for class this morning</td>\n",
       "    </tr>\n",
       "    <tr>\n",
       "      <th>2</th>\n",
       "      <td>sad</td>\n",
       "      <td>sad</td>\n",
       "      <td>I am worried about my grades.</td>\n",
       "    </tr>\n",
       "    <tr>\n",
       "      <th>3</th>\n",
       "      <td>sad</td>\n",
       "      <td>sad</td>\n",
       "      <td>No good very bad day</td>\n",
       "    </tr>\n",
       "    <tr>\n",
       "      <th>4</th>\n",
       "      <td>happy</td>\n",
       "      <td>happy</td>\n",
       "      <td>I ate frosted flakes this morning for breakfast!!</td>\n",
       "    </tr>\n",
       "    <tr>\n",
       "      <th>5</th>\n",
       "      <td>sad</td>\n",
       "      <td>sad</td>\n",
       "      <td>The parking is expensive</td>\n",
       "    </tr>\n",
       "    <tr>\n",
       "      <th>6</th>\n",
       "      <td>happy</td>\n",
       "      <td>happy</td>\n",
       "      <td>I had so much fun in France</td>\n",
       "    </tr>\n",
       "    <tr>\n",
       "      <th>7</th>\n",
       "      <td>sad</td>\n",
       "      <td>sad</td>\n",
       "      <td>Germany is lame</td>\n",
       "    </tr>\n",
       "    <tr>\n",
       "      <th>8</th>\n",
       "      <td>happy</td>\n",
       "      <td>sad</td>\n",
       "      <td>I got stuck in traffic</td>\n",
       "    </tr>\n",
       "    <tr>\n",
       "      <th>9</th>\n",
       "      <td>sad</td>\n",
       "      <td>sad</td>\n",
       "      <td>Ugh, this sucks</td>\n",
       "    </tr>\n",
       "    <tr>\n",
       "      <th>10</th>\n",
       "      <td>happy</td>\n",
       "      <td>happy</td>\n",
       "      <td>I just got a free trip to France</td>\n",
       "    </tr>\n",
       "    <tr>\n",
       "      <th>11</th>\n",
       "      <td>sad</td>\n",
       "      <td>sad</td>\n",
       "      <td>Boo Germany</td>\n",
       "    </tr>\n",
       "    <tr>\n",
       "      <th>12</th>\n",
       "      <td>sad</td>\n",
       "      <td>sad</td>\n",
       "      <td>Ugh no good</td>\n",
       "    </tr>\n",
       "    <tr>\n",
       "      <th>13</th>\n",
       "      <td>happy</td>\n",
       "      <td>happy</td>\n",
       "      <td>France has baguettes</td>\n",
       "    </tr>\n",
       "    <tr>\n",
       "      <th>14</th>\n",
       "      <td>happy</td>\n",
       "      <td>happy</td>\n",
       "      <td>I love the beach</td>\n",
       "    </tr>\n",
       "    <tr>\n",
       "      <th>15</th>\n",
       "      <td>happy</td>\n",
       "      <td>happy</td>\n",
       "      <td>France is very beautiful and full of mysteriou...</td>\n",
       "    </tr>\n",
       "    <tr>\n",
       "      <th>16</th>\n",
       "      <td>happy</td>\n",
       "      <td>happy</td>\n",
       "      <td>I got a new cat!</td>\n",
       "    </tr>\n",
       "    <tr>\n",
       "      <th>17</th>\n",
       "      <td>happy</td>\n",
       "      <td>happy</td>\n",
       "      <td>France has great croissants</td>\n",
       "    </tr>\n",
       "    <tr>\n",
       "      <th>18</th>\n",
       "      <td>happy</td>\n",
       "      <td>happy</td>\n",
       "      <td>This is awesome! I love it!</td>\n",
       "    </tr>\n",
       "    <tr>\n",
       "      <th>19</th>\n",
       "      <td>sad</td>\n",
       "      <td>sad</td>\n",
       "      <td>I lost my phone in Germany.</td>\n",
       "    </tr>\n",
       "    <tr>\n",
       "      <th>20</th>\n",
       "      <td>happy</td>\n",
       "      <td>happy</td>\n",
       "      <td>Yay!</td>\n",
       "    </tr>\n",
       "    <tr>\n",
       "      <th>21</th>\n",
       "      <td>happy</td>\n",
       "      <td>happy</td>\n",
       "      <td>I won the lottery while vacationing in France</td>\n",
       "    </tr>\n",
       "    <tr>\n",
       "      <th>22</th>\n",
       "      <td>happy</td>\n",
       "      <td>happy</td>\n",
       "      <td>I'm excited to travel this year.</td>\n",
       "    </tr>\n",
       "    <tr>\n",
       "      <th>23</th>\n",
       "      <td>happy</td>\n",
       "      <td>happy</td>\n",
       "      <td>this is the best day of my life</td>\n",
       "    </tr>\n",
       "    <tr>\n",
       "      <th>24</th>\n",
       "      <td>sad</td>\n",
       "      <td>happy</td>\n",
       "      <td>Germans and Mexicans have fun together</td>\n",
       "    </tr>\n",
       "    <tr>\n",
       "      <th>25</th>\n",
       "      <td>happy</td>\n",
       "      <td>happy</td>\n",
       "      <td>I want to move to France</td>\n",
       "    </tr>\n",
       "    <tr>\n",
       "      <th>26</th>\n",
       "      <td>happy</td>\n",
       "      <td>sad</td>\n",
       "      <td>I miss my cat</td>\n",
       "    </tr>\n",
       "    <tr>\n",
       "      <th>27</th>\n",
       "      <td>sad</td>\n",
       "      <td>sad</td>\n",
       "      <td>I don't like getting sick</td>\n",
       "    </tr>\n",
       "    <tr>\n",
       "      <th>28</th>\n",
       "      <td>sad</td>\n",
       "      <td>sad</td>\n",
       "      <td>Ugh I hate midterms</td>\n",
       "    </tr>\n",
       "    <tr>\n",
       "      <th>29</th>\n",
       "      <td>happy</td>\n",
       "      <td>sad</td>\n",
       "      <td>Ugh boo</td>\n",
       "    </tr>\n",
       "    <tr>\n",
       "      <th>30</th>\n",
       "      <td>happy</td>\n",
       "      <td>happy</td>\n",
       "      <td>French fries</td>\n",
       "    </tr>\n",
       "    <tr>\n",
       "      <th>31</th>\n",
       "      <td>happy</td>\n",
       "      <td>sad</td>\n",
       "      <td>I feel behind in my classes</td>\n",
       "    </tr>\n",
       "    <tr>\n",
       "      <th>32</th>\n",
       "      <td>sad</td>\n",
       "      <td>sad</td>\n",
       "      <td>My phone died</td>\n",
       "    </tr>\n",
       "  </tbody>\n",
       "</table>\n",
       "</div>"
      ],
      "text/plain": [
       "   output_predicted original_label  \\\n",
       "0               sad            sad   \n",
       "1             happy            sad   \n",
       "2               sad            sad   \n",
       "3               sad            sad   \n",
       "4             happy          happy   \n",
       "5               sad            sad   \n",
       "6             happy          happy   \n",
       "7               sad            sad   \n",
       "8             happy            sad   \n",
       "9               sad            sad   \n",
       "10            happy          happy   \n",
       "11              sad            sad   \n",
       "12              sad            sad   \n",
       "13            happy          happy   \n",
       "14            happy          happy   \n",
       "15            happy          happy   \n",
       "16            happy          happy   \n",
       "17            happy          happy   \n",
       "18            happy          happy   \n",
       "19              sad            sad   \n",
       "20            happy          happy   \n",
       "21            happy          happy   \n",
       "22            happy          happy   \n",
       "23            happy          happy   \n",
       "24              sad          happy   \n",
       "25            happy          happy   \n",
       "26            happy            sad   \n",
       "27              sad            sad   \n",
       "28              sad            sad   \n",
       "29            happy            sad   \n",
       "30            happy          happy   \n",
       "31            happy            sad   \n",
       "32              sad            sad   \n",
       "\n",
       "                                                 text  \n",
       "0                      the people in Germany are mean  \n",
       "1                   I was late for class this morning  \n",
       "2                       I am worried about my grades.  \n",
       "3                                No good very bad day  \n",
       "4   I ate frosted flakes this morning for breakfast!!  \n",
       "5                           The parking is expensive   \n",
       "6                         I had so much fun in France  \n",
       "7                                     Germany is lame  \n",
       "8                              I got stuck in traffic  \n",
       "9                                     Ugh, this sucks  \n",
       "10                   I just got a free trip to France  \n",
       "11                                        Boo Germany  \n",
       "12                                        Ugh no good  \n",
       "13                               France has baguettes  \n",
       "14                                   I love the beach  \n",
       "15  France is very beautiful and full of mysteriou...  \n",
       "16                                   I got a new cat!  \n",
       "17                        France has great croissants  \n",
       "18                        This is awesome! I love it!  \n",
       "19                        I lost my phone in Germany.  \n",
       "20                                               Yay!  \n",
       "21      I won the lottery while vacationing in France  \n",
       "22                   I'm excited to travel this year.  \n",
       "23                    this is the best day of my life  \n",
       "24             Germans and Mexicans have fun together  \n",
       "25                           I want to move to France  \n",
       "26                                     I miss my cat   \n",
       "27                          I don't like getting sick  \n",
       "28                                Ugh I hate midterms  \n",
       "29                                            Ugh boo  \n",
       "30                                       French fries  \n",
       "31                        I feel behind in my classes  \n",
       "32                                      My phone died  "
      ]
     },
     "execution_count": 74,
     "metadata": {},
     "output_type": "execute_result"
    }
   ],
   "source": [
    "results['original_label'] = list(output_test)\n",
    "results['text'] = list(input_test)\n",
    "results"
   ]
  },
  {
   "cell_type": "markdown",
   "metadata": {},
   "source": [
    "We can use `model.score()` by first inputting the 'true' labels, then the predictions. We get a percentage of the model's __accuracy__:\n",
    "\n",
    "$accuracy = \\frac{\\mbox{number of correct predictions}}{\\mbox{total number of items predicted}}$"
   ]
  },
  {
   "cell_type": "code",
   "execution_count": 76,
   "metadata": {},
   "outputs": [
    {
     "name": "stdout",
     "output_type": "stream",
     "text": [
      "0.8181818181818182\n"
     ]
    }
   ],
   "source": [
    "print(model.score(output_test, output_predicted))"
   ]
  },
  {
   "cell_type": "markdown",
   "metadata": {},
   "source": [
    "## The Confusion Matrix\n",
    "\n",
    "But accruacy alone doesn't tell us everything: there could be way more false positives than false negatives. So we use the ___confusion matrix___, which is a 2x2 table of what kinds of correct vs incorrect predictions were made:\n",
    "\n",
    "__NOTE: If you have more than two categories to predict, your confusion matrix will more complicated than a 2x2. The `tp, fn, fp, tn...` code won't work, but the next cell plotting the confusion matrix will work.__"
   ]
  },
  {
   "cell_type": "code",
   "execution_count": 77,
   "metadata": {},
   "outputs": [
    {
     "data": {
      "text/plain": [
       "array([[15,  1],\n",
       "       [ 5, 12]])"
      ]
     },
     "execution_count": 77,
     "metadata": {},
     "output_type": "execute_result"
    }
   ],
   "source": [
    "confusion_matrix = sklearn.metrics.confusion_matrix(output_test, output_predicted, labels=model.classes_)\n",
    "confusion_matrix"
   ]
  },
  {
   "cell_type": "code",
   "execution_count": 78,
   "metadata": {
    "tags": []
   },
   "outputs": [
    {
     "data": {
      "text/plain": [
       "<sklearn.metrics._plot.confusion_matrix.ConfusionMatrixDisplay at 0x7fe746d844f0>"
      ]
     },
     "execution_count": 78,
     "metadata": {},
     "output_type": "execute_result"
    },
    {
     "data": {
      "image/png": "[encoded data removed]",
      "text/plain": [
       "<Figure size 432x288 with 2 Axes>"
      ]
     },
     "metadata": {
      "needs_background": "light"
     },
     "output_type": "display_data"
    }
   ],
   "source": [
    "display = sklearn.metrics.ConfusionMatrixDisplay(confusion_matrix, display_labels=model.classes_)\n",
    "display.plot()\n"
   ]
  },
  {
   "cell_type": "markdown",
   "metadata": {},
   "source": [
    "# Metrics of success and failure\n",
    "\n",
    "___For lab: keep these if you only have two categories, delete if you have more___"
   ]
  },
  {
   "cell_type": "code",
   "execution_count": 79,
   "metadata": {},
   "outputs": [
    {
     "data": {
      "text/plain": [
       "(15, 1, 5, 12)"
      ]
     },
     "execution_count": 79,
     "metadata": {},
     "output_type": "execute_result"
    }
   ],
   "source": [
    "tp, fn, fp, tn = confusion_matrix.flatten()\n",
    "tp, fn, fp, tn"
   ]
  },
  {
   "cell_type": "code",
   "execution_count": 80,
   "metadata": {},
   "outputs": [
    {
     "data": {
      "text/plain": [
       "0.8181818181818182"
      ]
     },
     "execution_count": 80,
     "metadata": {},
     "output_type": "execute_result"
    }
   ],
   "source": [
    "accuracy = (tp + tn) / (tp + tn + fp + fn)\n",
    "accuracy"
   ]
  },
  {
   "cell_type": "code",
   "execution_count": 81,
   "metadata": {},
   "outputs": [
    {
     "data": {
      "text/plain": [
       "0.75"
      ]
     },
     "execution_count": 81,
     "metadata": {},
     "output_type": "execute_result"
    }
   ],
   "source": [
    "precision = tp / (tp + fp)\n",
    "precision"
   ]
  },
  {
   "cell_type": "code",
   "execution_count": 82,
   "metadata": {},
   "outputs": [
    {
     "data": {
      "text/plain": [
       "0.9375"
      ]
     },
     "execution_count": 82,
     "metadata": {},
     "output_type": "execute_result"
    }
   ],
   "source": [
    "recall = tp / (tp + fn)\n",
    "recall"
   ]
  },
  {
   "cell_type": "code",
   "execution_count": 83,
   "metadata": {},
   "outputs": [
    {
     "data": {
      "text/plain": [
       "0.7058823529411765"
      ]
     },
     "execution_count": 83,
     "metadata": {},
     "output_type": "execute_result"
    }
   ],
   "source": [
    "specificity = tn / (tn + fp)\n",
    "specificity"
   ]
  },
  {
   "cell_type": "markdown",
   "metadata": {},
   "source": [
    "## Manually exploring a few cases\n",
    "\n",
    "Edit this list to add five or more text inputs that make sense for your model. It could be from the original dataset, or it could be something you come up with on your own."
   ]
  },
  {
   "cell_type": "code",
   "execution_count": null,
   "metadata": {},
   "outputs": [],
   "source": [
    "text_list = ['I am in France',\n",
    "             'I am in Germany',\n",
    "             'I love France',\n",
    "             'I love Germany']"
   ]
  },
  {
   "cell_type": "code",
   "execution_count": 96,
   "metadata": {},
   "outputs": [
    {
     "data": {
      "text/plain": [
       "array([[0.71235138, 0.28764862],\n",
       "       [0.23887334, 0.76112666],\n",
       "       [0.92263167, 0.07736833],\n",
       "       [0.47765711, 0.52234289]])"
      ]
     },
     "execution_count": 96,
     "metadata": {},
     "output_type": "execute_result"
    }
   ],
   "source": [
    "scores = model.predict_proba(text_list)\n",
    "scores"
   ]
  },
  {
   "cell_type": "code",
   "execution_count": 99,
   "metadata": {},
   "outputs": [
    {
     "data": {
      "text/html": [
       "<div>\n",
       "<style scoped>\n",
       "    .dataframe tbody tr th:only-of-type {\n",
       "        vertical-align: middle;\n",
       "    }\n",
       "\n",
       "    .dataframe tbody tr th {\n",
       "        vertical-align: top;\n",
       "    }\n",
       "\n",
       "    .dataframe thead th {\n",
       "        text-align: right;\n",
       "    }\n",
       "</style>\n",
       "<table border=\"1\" class=\"dataframe\">\n",
       "  <thead>\n",
       "    <tr style=\"text-align: right;\">\n",
       "      <th></th>\n",
       "      <th>happy</th>\n",
       "      <th>sad</th>\n",
       "      <th>text</th>\n",
       "    </tr>\n",
       "  </thead>\n",
       "  <tbody>\n",
       "    <tr>\n",
       "      <th>0</th>\n",
       "      <td>0.712351</td>\n",
       "      <td>0.287649</td>\n",
       "      <td>I am in France</td>\n",
       "    </tr>\n",
       "    <tr>\n",
       "      <th>1</th>\n",
       "      <td>0.238873</td>\n",
       "      <td>0.761127</td>\n",
       "      <td>I am in Germany</td>\n",
       "    </tr>\n",
       "    <tr>\n",
       "      <th>2</th>\n",
       "      <td>0.922632</td>\n",
       "      <td>0.077368</td>\n",
       "      <td>I love France</td>\n",
       "    </tr>\n",
       "    <tr>\n",
       "      <th>3</th>\n",
       "      <td>0.477657</td>\n",
       "      <td>0.522343</td>\n",
       "      <td>I love Germany</td>\n",
       "    </tr>\n",
       "  </tbody>\n",
       "</table>\n",
       "</div>"
      ],
      "text/plain": [
       "      happy       sad             text\n",
       "0  0.712351  0.287649   I am in France\n",
       "1  0.238873  0.761127  I am in Germany\n",
       "2  0.922632  0.077368    I love France\n",
       "3  0.477657  0.522343   I love Germany"
      ]
     },
     "execution_count": 99,
     "metadata": {},
     "output_type": "execute_result"
    }
   ],
   "source": [
    "scores_dataframe = pd.DataFrame(scores, columns=model.classes_)\n",
    "scores_dataframe['text'] = text_list\n",
    "scores_dataframe"
   ]
  },
  {
   "cell_type": "markdown",
   "metadata": {},
   "source": [
    "## Scoring a new text dataset with no labels\n",
    "\n",
    "This will only look at the first column and score all text according to the model trained above."
   ]
  },
  {
   "cell_type": "code",
   "execution_count": 101,
   "metadata": {},
   "outputs": [],
   "source": [
    "df_to_score = pd.read_excel(\"text_to_score.xlsx\")"
   ]
  },
  {
   "cell_type": "code",
   "execution_count": 105,
   "metadata": {},
   "outputs": [
    {
     "data": {
      "text/plain": [
       "0          **For Agent Jack Raze Only. STOP. Do Not Read**\n",
       "1                               *NSYNC Vs. Backstreet Boys\n",
       "2        #CampingWithDogs Will Give You The Cutest Case...\n",
       "3                    #ChickenTweet As Motivational Posters\n",
       "4        #COCKROACHESANDCHER Is The Most Important Hash...\n",
       "                               ...                        \n",
       "31995                          Zimbabwean unity talks fail\n",
       "31996    Zimmerman stands before judge for the Trayvon ...\n",
       "31997    Zoo elephants live shorter lives than their wi...\n",
       "31998    Zoombak Tracks Your Dog, Your Car, Even Your C...\n",
       "31999                  Zuma Faces New Charges After Ruling\n",
       "Name: headline, Length: 32000, dtype: object"
      ]
     },
     "execution_count": 105,
     "metadata": {},
     "output_type": "execute_result"
    }
   ],
   "source": [
    "df_to_score.iloc[:, 0]"
   ]
  },
  {
   "cell_type": "code",
   "execution_count": 109,
   "metadata": {},
   "outputs": [
    {
     "data": {
      "text/html": [
       "<div>\n",
       "<style scoped>\n",
       "    .dataframe tbody tr th:only-of-type {\n",
       "        vertical-align: middle;\n",
       "    }\n",
       "\n",
       "    .dataframe tbody tr th {\n",
       "        vertical-align: top;\n",
       "    }\n",
       "\n",
       "    .dataframe thead th {\n",
       "        text-align: right;\n",
       "    }\n",
       "</style>\n",
       "<table border=\"1\" class=\"dataframe\">\n",
       "  <thead>\n",
       "    <tr style=\"text-align: right;\">\n",
       "      <th></th>\n",
       "      <th>happy</th>\n",
       "      <th>sad</th>\n",
       "      <th>prediction</th>\n",
       "      <th>text</th>\n",
       "    </tr>\n",
       "  </thead>\n",
       "  <tbody>\n",
       "    <tr>\n",
       "      <th>0</th>\n",
       "      <td>0.433324</td>\n",
       "      <td>0.566676</td>\n",
       "      <td>sad</td>\n",
       "      <td>**For Agent Jack Raze Only. STOP. Do Not Read**</td>\n",
       "    </tr>\n",
       "    <tr>\n",
       "      <th>1</th>\n",
       "      <td>0.500000</td>\n",
       "      <td>0.500000</td>\n",
       "      <td>happy</td>\n",
       "      <td>*NSYNC Vs. Backstreet Boys</td>\n",
       "    </tr>\n",
       "    <tr>\n",
       "      <th>2</th>\n",
       "      <td>0.614195</td>\n",
       "      <td>0.385805</td>\n",
       "      <td>happy</td>\n",
       "      <td>#CampingWithDogs Will Give You The Cutest Case...</td>\n",
       "    </tr>\n",
       "    <tr>\n",
       "      <th>3</th>\n",
       "      <td>0.500000</td>\n",
       "      <td>0.500000</td>\n",
       "      <td>happy</td>\n",
       "      <td>#ChickenTweet As Motivational Posters</td>\n",
       "    </tr>\n",
       "    <tr>\n",
       "      <th>4</th>\n",
       "      <td>0.554260</td>\n",
       "      <td>0.445740</td>\n",
       "      <td>happy</td>\n",
       "      <td>#COCKROACHESANDCHER Is The Most Important Hash...</td>\n",
       "    </tr>\n",
       "    <tr>\n",
       "      <th>...</th>\n",
       "      <td>...</td>\n",
       "      <td>...</td>\n",
       "      <td>...</td>\n",
       "      <td>...</td>\n",
       "    </tr>\n",
       "    <tr>\n",
       "      <th>31995</th>\n",
       "      <td>0.500000</td>\n",
       "      <td>0.500000</td>\n",
       "      <td>happy</td>\n",
       "      <td>Zimbabwean unity talks fail</td>\n",
       "    </tr>\n",
       "    <tr>\n",
       "      <th>31996</th>\n",
       "      <td>0.503506</td>\n",
       "      <td>0.496494</td>\n",
       "      <td>happy</td>\n",
       "      <td>Zimmerman stands before judge for the Trayvon ...</td>\n",
       "    </tr>\n",
       "    <tr>\n",
       "      <th>31997</th>\n",
       "      <td>0.408324</td>\n",
       "      <td>0.591676</td>\n",
       "      <td>sad</td>\n",
       "      <td>Zoo elephants live shorter lives than their wi...</td>\n",
       "    </tr>\n",
       "    <tr>\n",
       "      <th>31998</th>\n",
       "      <td>0.500000</td>\n",
       "      <td>0.500000</td>\n",
       "      <td>happy</td>\n",
       "      <td>Zoombak Tracks Your Dog, Your Car, Even Your C...</td>\n",
       "    </tr>\n",
       "    <tr>\n",
       "      <th>31999</th>\n",
       "      <td>0.500000</td>\n",
       "      <td>0.500000</td>\n",
       "      <td>happy</td>\n",
       "      <td>Zuma Faces New Charges After Ruling</td>\n",
       "    </tr>\n",
       "  </tbody>\n",
       "</table>\n",
       "<p>32000 rows × 4 columns</p>\n",
       "</div>"
      ],
      "text/plain": [
       "          happy       sad prediction  \\\n",
       "0      0.433324  0.566676        sad   \n",
       "1      0.500000  0.500000      happy   \n",
       "2      0.614195  0.385805      happy   \n",
       "3      0.500000  0.500000      happy   \n",
       "4      0.554260  0.445740      happy   \n",
       "...         ...       ...        ...   \n",
       "31995  0.500000  0.500000      happy   \n",
       "31996  0.503506  0.496494      happy   \n",
       "31997  0.408324  0.591676        sad   \n",
       "31998  0.500000  0.500000      happy   \n",
       "31999  0.500000  0.500000      happy   \n",
       "\n",
       "                                                    text  \n",
       "0        **For Agent Jack Raze Only. STOP. Do Not Read**  \n",
       "1                             *NSYNC Vs. Backstreet Boys  \n",
       "2      #CampingWithDogs Will Give You The Cutest Case...  \n",
       "3                  #ChickenTweet As Motivational Posters  \n",
       "4      #COCKROACHESANDCHER Is The Most Important Hash...  \n",
       "...                                                  ...  \n",
       "31995                        Zimbabwean unity talks fail  \n",
       "31996  Zimmerman stands before judge for the Trayvon ...  \n",
       "31997  Zoo elephants live shorter lives than their wi...  \n",
       "31998  Zoombak Tracks Your Dog, Your Car, Even Your C...  \n",
       "31999                Zuma Faces New Charges After Ruling  \n",
       "\n",
       "[32000 rows x 4 columns]"
      ]
     },
     "execution_count": 109,
     "metadata": {},
     "output_type": "execute_result"
    }
   ],
   "source": [
    "scores = model.predict_proba(df_to_score.iloc[:, 0])\n",
    "scores_df = pd.DataFrame(scores, columns=model.classes_)\n",
    "prediction = model.predict(df_to_score.iloc[:, 0])\n",
    "scores_df['prediction'] = prediction\n",
    "scores_df['text'] = df_to_score.iloc[:, 0]\n",
    "\n",
    "\n",
    "scores_df"
   ]
  },
  {
   "cell_type": "code",
   "execution_count": 110,
   "metadata": {},
   "outputs": [],
   "source": [
    "scores_df.to_excel(\"scored_results.xlsx\")"
   ]
  },
  {
   "cell_type": "code",
   "execution_count": null,
   "metadata": {},
   "outputs": [],
   "source": []
  }
 ],
 "metadata": {
  "interpreter": {
   "hash": "97b4d432cc475b37b45bc9f941b0f61c6e9f18b4be8b57c80de35b509106efdd"
  },
  "kernelspec": {
   "display_name": "Python 3 (ipykernel)",
   "language": "python",
   "name": "python3"
  },
  "language_info": {
   "codemirror_mode": {
    "name": "ipython",
    "version": 3
   },
   "file_extension": ".py",
   "mimetype": "text/x-python",
   "name": "python",
   "nbconvert_exporter": "python",
   "pygments_lexer": "ipython3",
   "version": "3.9.5"
  }
 },
 "nbformat": 4,
 "nbformat_minor": 4
}
